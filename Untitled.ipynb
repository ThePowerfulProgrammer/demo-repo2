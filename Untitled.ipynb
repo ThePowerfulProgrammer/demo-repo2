{
 "cells": [
  {
   "cell_type": "code",
   "execution_count": 1,
   "metadata": {},
   "outputs": [],
   "source": [
    "## Basic Algorithms in Python\n",
    "import random"
   ]
  },
  {
   "cell_type": "code",
   "execution_count": 2,
   "metadata": {},
   "outputs": [],
   "source": [
    "# Find largest number in a list\n",
    "def find_largest(num_list):\n",
    "    Largest = 0\n",
    "    for num in num_list:\n",
    "        if num > Largest:\n",
    "             Largest = num\n",
    "    return f\"{Largest}, is the largest number in set\"\n",
    "\n",
    "list = [56853,12,34,66,44,33,0,0,0,44,333,2222,12344]\n",
    "random_list = []\n",
    "for _ in range(0, 100):\n",
    "    n = random.randint(-100, 1000)\n",
    "    random_list.append(n)\n"
   ]
  },
  {
   "cell_type": "code",
   "execution_count": 3,
   "metadata": {},
   "outputs": [
    {
     "data": {
      "text/plain": [
       "'56853, is the largest number in set'"
      ]
     },
     "execution_count": 3,
     "metadata": {},
     "output_type": "execute_result"
    }
   ],
   "source": [
    "find_largest(list)\n"
   ]
  },
  {
   "cell_type": "code",
   "execution_count": 4,
   "metadata": {},
   "outputs": [
    {
     "data": {
      "text/plain": [
       "'989, is the largest number in set'"
      ]
     },
     "execution_count": 4,
     "metadata": {},
     "output_type": "execute_result"
    }
   ],
   "source": [
    "find_largest(random_list)"
   ]
  },
  {
   "cell_type": "code",
   "execution_count": 5,
   "metadata": {},
   "outputs": [],
   "source": [
    "# Find Average\n",
    "\n",
    "def find_avg(num_1, num_2):\n",
    "    sum = num_1 + num_2\n",
    "    average = sum // 2\n",
    "    return f\"{average}, is the average of the sum\""
   ]
  },
  {
   "cell_type": "code",
   "execution_count": 7,
   "metadata": {},
   "outputs": [
    {
     "data": {
      "text/plain": [
       "'93420, is the average of the sum'"
      ]
     },
     "execution_count": 7,
     "metadata": {},
     "output_type": "execute_result"
    }
   ],
   "source": [
    "find_avg(186750,90)"
   ]
  },
  {
   "cell_type": "code",
   "execution_count": 25,
   "metadata": {},
   "outputs": [],
   "source": [
    "# Summation\n",
    "\n",
    "def summation(num_1, num_2):\n",
    "    sum = num_1 + num_2\n",
    "    print(sum)\n",
    "    decision = input(\"Add more?: \")\n",
    "    while decision == \"y\":\n",
    "        sum = sum + int(input('Number: '))\n",
    "        print(sum)\n",
    "        decision = input(\"Add more?: \")\n",
    "    return f\"{sum}, is the total sum\""
   ]
  },
  {
   "cell_type": "code",
   "execution_count": 27,
   "metadata": {},
   "outputs": [],
   "source": [
    "summation(10,45)"
   ]
  },
  {
   "cell_type": "code",
   "execution_count": 8,
   "metadata": {},
   "outputs": [
    {
     "name": "stdout",
     "output_type": "stream",
     "text": [
      "[45, 99, 7, 9]\n"
     ]
    }
   ],
   "source": [
    "list = [1,5,7,9]\n",
    "list[0] = 45\n",
    "list[1] = 99\n",
    "print(list)"
   ]
  },
  {
   "cell_type": "code",
   "execution_count": 9,
   "metadata": {},
   "outputs": [
    {
     "name": "stdout",
     "output_type": "stream",
     "text": [
      "0\n",
      "1\n",
      "2\n",
      "3\n"
     ]
    }
   ],
   "source": [
    "list = [1,2,3,4]\n",
    "for _ in range(len(list)):\n",
    "    print(_)"
   ]
  },
  {
   "cell_type": "code",
   "execution_count": 52,
   "metadata": {},
   "outputs": [
    {
     "data": {
      "text/plain": [
       "' Find smallest\\n    Smallest = num_list[0]\\n    print(type(Smallest))\\n    for num in num_list:\\n        if num < Smallest:\\n            Smallest = num\\n        print(Smallest)\\n        \\n    Create new sorted list\\n    sorted_list = []\\n    list[0] = Smallest\\n    if Smallest not in sorted_list:\\n        sorted_list.append(Smallest)'"
      ]
     },
     "execution_count": 52,
     "metadata": {},
     "output_type": "execute_result"
    }
   ],
   "source": [
    "''' Find smallest\n",
    "    Smallest = num_list[0]\n",
    "    print(type(Smallest))\n",
    "    for num in num_list:\n",
    "        if num < Smallest:\n",
    "            Smallest = num\n",
    "        print(Smallest)\n",
    "        \n",
    "    Create new sorted list\n",
    "    sorted_list = []\n",
    "    list[0] = Smallest\n",
    "    if Smallest not in sorted_list:\n",
    "        sorted_list.append(Smallest)'''"
   ]
  },
  {
   "cell_type": "code",
   "execution_count": 17,
   "metadata": {},
   "outputs": [],
   "source": [
    "# Brute force\n",
    "\n",
    "def brute_search(card, query):\n",
    "    position = 0\n",
    "    \n",
    "    while True:\n",
    "        \n",
    "        if card[position] == query:\n",
    "            return position\n",
    "        \n",
    "        \n",
    "        position += 1\n",
    "        \n",
    "        if position == len(card):\n",
    "            return -1\n",
    "        "
   ]
  },
  {
   "cell_type": "code",
   "execution_count": 25,
   "metadata": {},
   "outputs": [
    {
     "name": "stdout",
     "output_type": "stream",
     "text": [
      "Wall time: 0 ns\n"
     ]
    },
    {
     "data": {
      "text/plain": [
       "5"
      ]
     },
     "execution_count": 25,
     "metadata": {},
     "output_type": "execute_result"
    }
   ],
   "source": [
    "%%time\n",
    "brute_search([12,34,5,6,42,243556,2342,1234,565,3,5], 243556)"
   ]
  },
  {
   "cell_type": "code",
   "execution_count": 29,
   "metadata": {},
   "outputs": [
    {
     "name": "stdout",
     "output_type": "stream",
     "text": [
      "[1, 2, 3]\n",
      "[2, 3]\n"
     ]
    }
   ],
   "source": [
    "list = [1,2,3]\n",
    "print(list)\n",
    "list.remove(list[0])\n",
    "print(list)"
   ]
  },
  {
   "cell_type": "code",
   "execution_count": 56,
   "metadata": {},
   "outputs": [],
   "source": [
    "# Sorting algorithm\n",
    "def bubble_sort(list):\n",
    "    \n",
    "    # find 1st smallest \n",
    "    Smallest = list[0] # Asssume smallest at posistion 0\n",
    "    \n",
    "    # Sorted_list\n",
    "    sorted_list = []\n",
    "    \n",
    "    while len(list) > 0:\n",
    "        \n",
    "        for num in list:\n",
    "            if num < Smallest:\n",
    "                Smallest = num\n",
    "                print(f\"{Smallest},smallest\")\n",
    "                print(list)\n",
    "            if Smallest not in sorted_list:\n",
    "                sorted_list.append(Smallest)\n",
    "        \n",
    "                \n",
    "                \n",
    "\n",
    "        \n",
    "   \n",
    "              "
   ]
  },
  {
   "cell_type": "code",
   "execution_count": null,
   "metadata": {},
   "outputs": [],
   "source": [
    "bubble_sort([5,4,3,2,1])"
   ]
  },
  {
   "cell_type": "code",
   "execution_count": null,
   "metadata": {},
   "outputs": [],
   "source": []
  },
  {
   "cell_type": "code",
   "execution_count": null,
   "metadata": {},
   "outputs": [],
   "source": []
  },
  {
   "cell_type": "code",
   "execution_count": null,
   "metadata": {},
   "outputs": [],
   "source": []
  },
  {
   "cell_type": "code",
   "execution_count": null,
   "metadata": {},
   "outputs": [],
   "source": []
  },
  {
   "cell_type": "code",
   "execution_count": null,
   "metadata": {},
   "outputs": [],
   "source": []
  },
  {
   "cell_type": "code",
   "execution_count": null,
   "metadata": {},
   "outputs": [],
   "source": []
  }
 ],
 "metadata": {
  "kernelspec": {
   "display_name": "Python 3",
   "language": "python",
   "name": "python3"
  },
  "language_info": {
   "codemirror_mode": {
    "name": "ipython",
    "version": 3
   },
   "file_extension": ".py",
   "mimetype": "text/x-python",
   "name": "python",
   "nbconvert_exporter": "python",
   "pygments_lexer": "ipython3",
   "version": "3.7.6"
  }
 },
 "nbformat": 4,
 "nbformat_minor": 4
}
